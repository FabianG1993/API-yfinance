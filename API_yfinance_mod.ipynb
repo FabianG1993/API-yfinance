{
  "nbformat": 4,
  "nbformat_minor": 0,
  "metadata": {
    "colab": {
      "provenance": []
    },
    "kernelspec": {
      "name": "python3",
      "display_name": "Python 3"
    },
    "language_info": {
      "name": "python"
    }
  },
  "cells": [
    {
      "cell_type": "code",
      "source": [
        "!pip install yfinance"
      ],
      "metadata": {
        "id": "bsminJBdrTTp"
      },
      "execution_count": null,
      "outputs": []
    },
    {
      "cell_type": "code",
      "source": [
        "from pandas_datareader import data as pdr\n",
        "from datetime import datetime\n",
        "import yfinance as yf"
      ],
      "metadata": {
        "id": "3jqSobTWqt0y"
      },
      "execution_count": 3,
      "outputs": []
    },
    {
      "cell_type": "code",
      "source": [
        "yf.pdr_override()\n",
        "tickers = ['KO']\n",
        "\n",
        "start = datetime(2012,9,15)\n",
        "end = datetime(2022,9,15)\n",
        "data = pdr.get_data_yahoo(tickers,start,end)"
      ],
      "metadata": {
        "colab": {
          "base_uri": "https://localhost:8080/"
        },
        "id": "OIj6DS4fquSy",
        "outputId": "02953881-00a5-4df2-fce9-70d2807cf24f"
      },
      "execution_count": 5,
      "outputs": [
        {
          "output_type": "stream",
          "name": "stdout",
          "text": [
            "\r[*********************100%***********************]  1 of 1 completed\n"
          ]
        }
      ]
    },
    {
      "cell_type": "code",
      "source": [
        "data.head()"
      ],
      "metadata": {
        "colab": {
          "base_uri": "https://localhost:8080/"
        },
        "id": "U_ktUymqrzMH",
        "outputId": "720bf96a-0029-4eb6-8248-dbde1b9bee26"
      },
      "execution_count": 7,
      "outputs": [
        {
          "output_type": "execute_result",
          "data": {
            "text/plain": [
              "(2515, 6)"
            ]
          },
          "metadata": {},
          "execution_count": 7
        }
      ]
    }
  ]
}